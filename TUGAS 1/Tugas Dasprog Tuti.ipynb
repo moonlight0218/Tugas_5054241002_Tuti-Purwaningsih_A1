{
 "cells": [
  {
   "cell_type": "code",
   "execution_count": null,
   "id": "ef19c5d2-4df3-406b-96dc-9e6199e795d0",
   "metadata": {},
   "outputs": [],
   "source": []
  },
  {
   "cell_type": "code",
   "execution_count": null,
   "id": "27f7b5e5-98ac-4115-8fc1-8ba2cdaac0a0",
   "metadata": {},
   "outputs": [],
   "source": []
  },
  {
   "cell_type": "code",
   "execution_count": 13,
   "id": "96bda0bc-a85e-4d92-95cb-800144c9dbdb",
   "metadata": {},
   "outputs": [
    {
     "name": "stdout",
     "output_type": "stream",
     "text": [
      "no 2\n",
      "halo ayo kita itung brpa megawatt listrik bendungan\n"
     ]
    },
    {
     "name": "stdin",
     "output_type": "stream",
     "text": [
      "height (m):  170\n",
      "water discharge (m3/s):  1300\n"
     ]
    },
    {
     "name": "stdout",
     "output_type": "stream",
     "text": [
      "listrik bendungan adalah 1949.2 MW\n"
     ]
    }
   ],
   "source": [
    "print(\"no 2\")\n",
    "print(\"halo ayo kita itung brpa megawatt listrik bendungan\")\n",
    "h = input(\"height (m): \")\n",
    "h = float(h)\n",
    "Q = input(\"water discharge (m3/s): \")\n",
    "Q = float(Q)\n",
    "g = 9.8\n",
    "efisiensi = 0.9\n",
    "rho = 1000\n",
    "bnyk = h * Q * g * efisiensi /1000000 * rho\n",
    "bnyk = round(bnyk,1)\n",
    "print(\"listrik bendungan adalah\", bnyk, \"MW\")\n",
    "\n"
   ]
  },
  {
   "cell_type": "code",
   "execution_count": 21,
   "id": "7cf21dcb-e311-4a59-ab9c-80d02d035f79",
   "metadata": {},
   "outputs": [
    {
     "name": "stdout",
     "output_type": "stream",
     "text": [
      "no 4\n",
      "ENTER YOUR US DOLLAR AND WE WILL CONVERT IT TO BRITISH POUND\n"
     ]
    },
    {
     "name": "stdin",
     "output_type": "stream",
     "text": [
      "US DOLLAR:  2\n"
     ]
    },
    {
     "name": "stdout",
     "output_type": "stream",
     "text": [
      "BRITISH POUND:  1.3 GBP\n",
      "THANKS\n"
     ]
    }
   ],
   "source": [
    "print(\"no 4\")\n",
    "print(\"ENTER YOUR US DOLLAR AND WE WILL CONVERT IT TO BRITISH POUND\")\n",
    "dollar = input(\"US DOLLAR: \")\n",
    "dollar = int(dollar)\n",
    "kurs = 0.65\n",
    "bpound = dollar * kurs\n",
    "print(\"BRITISH POUND: \", bpound,\"GBP\")\n",
    "print(\"THANKS\")\n"
   ]
  },
  {
   "cell_type": "code",
   "execution_count": 22,
   "id": "a4e9bcd5-87f1-4c43-becb-5844e2614605",
   "metadata": {},
   "outputs": [
    {
     "name": "stdout",
     "output_type": "stream",
     "text": [
      "LET'S CALCULATE JET FIGHTER'S ACCELERATION AND TIME\n"
     ]
    },
    {
     "name": "stdin",
     "output_type": "stream",
     "text": [
      "Velocity (km/hour):  278\n",
      "Distance (meters):  94\n"
     ]
    },
    {
     "name": "stdout",
     "output_type": "stream",
     "text": [
      "The acceleration is:  31.72 (m/s2)\n",
      "Time:  2.0 second\n",
      "KAMSAHAMNIDAAAAAA\n"
     ]
    }
   ],
   "source": [
    "print(\"no 12\")\n",
    "print(\"LET'S CALCULATE JET FIGHTER'S ACCELERATION AND TIME\")\n",
    "velocity = input(\"Velocity (km/hour): \") \n",
    "velocity = float(velocity)\n",
    "distance = input(\"Distance (meters): \")\n",
    "distance = float(distance)\n",
    "kecepatan = velocity * 1000 / 3600\n",
    "acceleration = kecepatan * kecepatan / 2 / distance\n",
    "print(\"The acceleration is: \", round(acceleration,2), \"(m/s2)\")\n",
    "time = kecepatan / acceleration\n",
    "print(\"Time: \", round(time,0), \"second\")\n",
    "print(\"KAMSAHAMNIDAAAAAA\")"
   ]
  },
  {
   "cell_type": "code",
   "execution_count": 41,
   "id": "7b66e640-7972-4275-98cd-6f2406264a10",
   "metadata": {},
   "outputs": [
    {
     "name": "stdout",
     "output_type": "stream",
     "text": [
      "no 10\n",
      "cari persamaan tegak lurus dari titik dibawah\n",
      "put your coordinate from two points\n",
      "let's get started with first coordinate\n",
      "(x1,y1)\n"
     ]
    },
    {
     "name": "stdin",
     "output_type": "stream",
     "text": [
      "x1:  2\n",
      "y1:  -4\n"
     ]
    },
    {
     "name": "stdout",
     "output_type": "stream",
     "text": [
      "after that, type your second coordinate below!\n",
      "(x2,y2)\n"
     ]
    },
    {
     "name": "stdin",
     "output_type": "stream",
     "text": [
      "x2:  7\n",
      "y2:  -2\n"
     ]
    },
    {
     "name": "stdout",
     "output_type": "stream",
     "text": [
      "y = -2.5 x + 8.25\n"
     ]
    }
   ],
   "source": [
    "print(\"no 10\")\n",
    "print(\"cari persamaan tegak lurus dari titik dibawah\")\n",
    "print(\"put your coordinate from two points\")\n",
    "print(\"let's get started with first coordinate\")\n",
    "print(\"(x1,y1)\")\n",
    "x1 = input(\"x1: \")\n",
    "x1 = float(x1)\n",
    "y1 = input(\"y1: \")\n",
    "y1 = float(y1)\n",
    "print(\"after that, type your second coordinate below!\")\n",
    "print(\"(x2,y2)\")\n",
    "x2 = input(\"x2: \")\n",
    "x2 = float(x2)\n",
    "y2 = input(\"y2: \")\n",
    "y2 = float(y2)\n",
    "m1 = ( y2 - y1 ) / ( x2 - x1 )\n",
    "m2 = -1 / m1\n",
    "tiktengx3 = (x2 - x1) / 2 + x1\n",
    "tiktengy3 = (y2 - y1) / 2 + y1\n",
    "persgaris = m2 * ( tiktengx3 * -1 ) + tiktengy3\n",
    "print(\"y =\",m2,\"x +\",persgaris)\n",
    "    \n"
   ]
  },
  {
   "cell_type": "code",
   "execution_count": 44,
   "id": "b6f632c2-a33d-4949-a7c1-c752d04b4ebe",
   "metadata": {},
   "outputs": [
    {
     "name": "stdout",
     "output_type": "stream",
     "text": [
      "no 6\n",
      "LET'S CHECK HOW MUCH DO YOU NEED ON THE FINAL EXAM\n"
     ]
    },
    {
     "name": "stdin",
     "output_type": "stream",
     "text": [
      "Enter desire grade:  b\n",
      "Enter minimum average required:  79.5\n",
      "Enter current average in course:  74.6\n",
      "Enter how much the final counts as a percentage of the course grade:  25\n"
     ]
    },
    {
     "name": "stdout",
     "output_type": "stream",
     "text": [
      "You need a score of 94.2 on the final to get a b\n"
     ]
    }
   ],
   "source": [
    "print(\"no 6\")\n",
    "print(\"LET'S CHECK HOW MUCH DO YOU NEED ON THE FINAL EXAM\")\n",
    "maunilai = input(\"Enter desire grade: \")\n",
    "mini = input(\"Enter minimum average required: \")\n",
    "mini = float(mini)\n",
    "avrg = input(\"Enter current average in course: \")\n",
    "avrg = float(avrg)\n",
    "prcnt = input(\"Enter how much the final counts as a percentage of the course grade: \")\n",
    "prcnt = int(prcnt)\n",
    "cepeminx = 100 - prcnt\n",
    "nikur = ( mini * 100 - ( avrg * cepeminx )) / prcnt\n",
    "print(\"You need a score of\", nikur, \"on the final to get a\", maunilai)\n",
    "\n"
   ]
  },
  {
   "cell_type": "code",
   "execution_count": 11,
   "id": "da636e63-c901-4cab-ab8b-9f57d27f63aa",
   "metadata": {},
   "outputs": [
    {
     "name": "stdout",
     "output_type": "stream",
     "text": [
      "no 8\n",
      "ESTIMATE THE MAGNITUDE AND COST\n"
     ]
    },
    {
     "name": "stdin",
     "output_type": "stream",
     "text": [
      "Many people in community 4\n"
     ]
    },
    {
     "name": "stdout",
     "output_type": "stream",
     "text": [
      "WATER USED PER DAY:  56 liters/day\n",
      "COST OF INSTALL ALL THAT TOILET IS:  300 USD\n"
     ]
    }
   ],
   "source": [
    "print(\"no 8\")\n",
    "print(\"ESTIMATE THE MAGNITUDE AND COST\")\n",
    "pipel = input(\"Many people in community\")\n",
    "pipel = int(pipel)\n",
    "toilet = pipel / 3\n",
    "import math\n",
    "toilet = math.ceil(toilet)\n",
    "air = toilet * 2 * 14\n",
    "print(\"WATER USED PER DAY: \", air, \"liters/day\")\n",
    "harga = toilet * 150\n",
    "print(\"COST OF INSTALL ALL THAT TOILET IS: \", harga, \"USD\")\n"
   ]
  },
  {
   "cell_type": "code",
   "execution_count": null,
   "id": "41ff3799-c139-4f22-b5da-96832a0b6bd6",
   "metadata": {},
   "outputs": [],
   "source": []
  }
 ],
 "metadata": {
  "kernelspec": {
   "display_name": "Python 3 (ipykernel)",
   "language": "python",
   "name": "python3"
  },
  "language_info": {
   "codemirror_mode": {
    "name": "ipython",
    "version": 3
   },
   "file_extension": ".py",
   "mimetype": "text/x-python",
   "name": "python",
   "nbconvert_exporter": "python",
   "pygments_lexer": "ipython3",
   "version": "3.12.4"
  }
 },
 "nbformat": 4,
 "nbformat_minor": 5
}
